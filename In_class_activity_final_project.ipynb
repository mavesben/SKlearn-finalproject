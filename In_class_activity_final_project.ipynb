{
 "cells": [
  {
   "cell_type": "markdown",
   "id": "c950f4cb-0566-4704-874e-abcf76bdbd55",
   "metadata": {},
   "source": [
    "# In-Class Project: sklearn\n",
    "# Ben Maves, Luis Ruffino"
   ]
  },
  {
   "cell_type": "markdown",
   "id": "a398d179-3102-4c41-9920-917719a4d3fc",
   "metadata": {},
   "source": [
    "### Step 1: Packages and Data Setup"
   ]
  },
  {
   "cell_type": "markdown",
   "id": "02cec973-0ae6-403a-8ebf-72f85bd23cb8",
   "metadata": {},
   "source": [
    "Run the following cell to import necessary modules for this project. Install necessary packages."
   ]
  },
  {
   "cell_type": "code",
   "execution_count": null,
   "id": "01173099-9c12-40ff-b738-4817c88b4b30",
   "metadata": {},
   "outputs": [],
   "source": [
    "import numpy as np\n",
    "import matplotlib.pyplot as plt\n",
    "import scipy.linalg\n",
    "import sklearn.decomposition as dec\n",
    "import sklearn.datasets as ds"
   ]
  },
  {
   "cell_type": "markdown",
   "id": "983b3ba1-00ff-4b01-9c37-b45d3f768455",
   "metadata": {},
   "source": [
    "sklearn has some built in toy datasets. Lets use one to try out our PCA!"
   ]
  },
  {
   "cell_type": "code",
   "execution_count": null,
   "id": "4b857a9e-d359-488a-bc53-4dd7a8eb9b01",
   "metadata": {},
   "outputs": [],
   "source": [
    "# Load the dataset from sklearn and inspect it a bit\n",
    "iris = ds.load_iris()\n",
    "data = iris.data\n",
    "labels = iris.target\n",
    "print(iris.feature_names, iris.target_names) #our data has 4 different features with 3 different classifications"
   ]
  },
  {
   "cell_type": "markdown",
   "id": "3aa33acb-714a-4a63-bba7-1dd1b5e81b5c",
   "metadata": {},
   "source": [
    "Let's plot some of our data to see visualize features. "
   ]
  },
  {
   "cell_type": "code",
   "execution_count": null,
   "id": "aa40de0f-07ec-454d-b4a5-cce5765fa362",
   "metadata": {},
   "outputs": [],
   "source": [
    "plt.scatter(  data[:,0]   ,data[:,1], c=labels, s=30, cmap=plt.cm.rainbow);\n",
    "plt.xlabel('sepal length (cm)')\n",
    "plt.ylabel('sepal width (cm)')\n"
   ]
  },
  {
   "cell_type": "markdown",
   "id": "8fc3b482-ffd5-403e-ac28-245d4c20b909",
   "metadata": {},
   "source": [
    "Are our 3 classifications linearly seperable? Two of our classifications have significant overlap. Maybe we kind find a new dimension where there is less overlap. Let's do a PCA"
   ]
  },
  {
   "cell_type": "markdown",
   "id": "6b94dc64-24b9-42df-b3d1-47ce1f15c5cd",
   "metadata": {},
   "source": [
    "### Step 2: PCA"
   ]
  },
  {
   "cell_type": "markdown",
   "id": "87c795e7-82d0-40eb-a322-a4085065db84",
   "metadata": {},
   "source": [
    "sklearn has a built in function. Take a look at the documentation here: [sklearn PCA](https://scikit-learn.org/stable/modules/generated/sklearn.decomposition.PCA.html#sklearn.decomposition.PCA) "
   ]
  },
  {
   "cell_type": "code",
   "execution_count": null,
   "id": "94668015-fad9-431c-9d43-a7548320fc0b",
   "metadata": {},
   "outputs": [],
   "source": [
    "pca = dec.PCA()\n",
    "pca_data = pca.fit_transform(data)"
   ]
  },
  {
   "cell_type": "markdown",
   "id": "29fd00e4-7134-46ce-ab52-4c2622040941",
   "metadata": {},
   "source": [
    "This transforms our data in terms of it's principle components. Lets now find out some more information about these principle components. Can you find the eigenvalues of each of our principle components (Look through the documentation)? Print out the eigenvalues and how much of the total variance each explains. "
   ]
  },
  {
   "cell_type": "code",
   "execution_count": null,
   "id": "d627498b-ea27-4661-a0e1-a831346902c6",
   "metadata": {},
   "outputs": [],
   "source": [
    "#print out principle component eigenvalues and their vairance\n"
   ]
  },
  {
   "cell_type": "markdown",
   "id": "2e14bdb7-859d-4d54-9e1f-4578466cfc04",
   "metadata": {},
   "source": [
    "Hopefully you see that the last 3 eigenvalues are pretty small. The first eigenvalue should account for ~92% of the total information.\n",
    "\n",
    "But what are the most imformative features in the dataset? The eigenvalues do not tell us any informationn about what features are most impportant to each of our principle components. To find which features are the most important lets print out our eigenvectors. Our eigenvectors are our principle components."
   ]
  },
  {
   "cell_type": "code",
   "execution_count": null,
   "id": "b4a34aca-8c16-4ccc-bef9-f9bd9bd1d29a",
   "metadata": {},
   "outputs": [],
   "source": [
    "for i, eigv in zip([\"first\", \"second\", \"third\", \"fourth\"], pca.components_):\n",
    "    print(f\"The elements of the {i} eigenvector are: \", eigv) "
   ]
  },
  {
   "cell_type": "markdown",
   "id": "02b7e4f2-5ce0-4020-8d12-d13a613491ec",
   "metadata": {},
   "source": [
    "Okay! Finally let's plot our data in our new dimensions. Plot the data in terms of the first 2 principle components and compare with how it looks compared to the 2 features we plotted before. Is it linearly spereable now?"
   ]
  },
  {
   "cell_type": "code",
   "execution_count": null,
   "id": "2a898a98-eb90-4378-b0de-f97cf633f92e",
   "metadata": {},
   "outputs": [],
   "source": [
    "fig, ax = plt.subplots(1,2, figsize = (16, 6))\n",
    "# Plot the original data\n",
    "ax[0].scatter(iris.data[:,0], iris.data[:,1], c=target, s=30, cmap=plt.cm.rainbow)\n",
    "ax[0].set_title(\"Original Data\")\n",
    "ax[0].set_xlabel(\"Sepal Length [cm]\")\n",
    "ax[0].set_ylabel(\"Sepal Width [cm]\")\n",
    "# Plot the transformed data\n"
   ]
  },
  {
   "cell_type": "markdown",
   "id": "e39d3463-19fc-4500-837a-134265f5b125",
   "metadata": {},
   "source": [
    "Hopefully our data is now linearly seperable! Can you find a line which seperates our 3 classes? You can do this by hand or using the sklearn package(sklearn.svm.SVC)."
   ]
  },
  {
   "cell_type": "code",
   "execution_count": null,
   "id": "9f55c419-a33f-4215-889f-a8ed944f499c",
   "metadata": {},
   "outputs": [],
   "source": [
    "#seperate our classes in PCA space!\n"
   ]
  }
 ],
 "metadata": {
  "kernelspec": {
   "display_name": "Python 3 (ipykernel)",
   "language": "python",
   "name": "python3"
  },
  "language_info": {
   "codemirror_mode": {
    "name": "ipython",
    "version": 3
   },
   "file_extension": ".py",
   "mimetype": "text/x-python",
   "name": "python",
   "nbconvert_exporter": "python",
   "pygments_lexer": "ipython3",
   "version": "3.11.7"
  }
 },
 "nbformat": 4,
 "nbformat_minor": 5
}
